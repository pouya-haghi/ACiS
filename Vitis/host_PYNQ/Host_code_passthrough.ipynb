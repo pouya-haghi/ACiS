{
 "cells": [
  {
   "cell_type": "code",
   "execution_count": 4,
   "metadata": {},
   "outputs": [
    {
     "name": "stdout",
     "output_type": "stream",
     "text": [
      "\n",
      "****** configutil v2021.2 (64-bit)\n",
      "  **** SW Build 3363252 on 2021-10-14-04:41:01\n",
      "    ** Copyright 1986-2020 Xilinx, Inc. All Rights Reserved.\n",
      "\n",
      "INFO: [ConfigUtil 60-895]   Target platform: /opt/xilinx/platforms/xilinx_u280_xdma_201920_3/xilinx_u280_xdma_201920_3.xpfm\n",
      "INFO: [ConfigUtil 60-1578]   This platform contains Xilinx Shell Archive '/opt/xilinx/platforms/xilinx_u280_xdma_201920_3/hw/xilinx_u280_xdma_201920_3.xsa'\n",
      "INFO: [ConfigUtil 60-1032] Extracting hardware platform to ./.Xil/configutil-25825-caadlab-01/xilinx_u280_xdma_201920_3\n",
      "emulation configuration file `emconfig.json` is created in current working directory \n"
     ]
    }
   ],
   "source": [
    "# only for sw_emu and hw_emu\n",
    "!emconfigutil -f xilinx_u280_xdma_201920_3 --nd 1"
   ]
  },
  {
   "cell_type": "code",
   "execution_count": 5,
   "metadata": {},
   "outputs": [],
   "source": [
    "import os\n",
    "os.environ['EMCONFIG_PATH'] = os.environ['PWD']"
   ]
  },
  {
   "cell_type": "code",
   "execution_count": 6,
   "metadata": {},
   "outputs": [],
   "source": [
    "os.environ['XCL_EMULATION_MODE'] = 'hw_emu'"
   ]
  },
  {
   "cell_type": "code",
   "execution_count": 7,
   "metadata": {
    "scrolled": true
   },
   "outputs": [],
   "source": [
    "import pynq\n",
    "import numpy as np\n",
    "from vnx_utils import *"
   ]
  },
  {
   "cell_type": "code",
   "execution_count": 8,
   "metadata": {},
   "outputs": [
    {
     "name": "stdout",
     "output_type": "stream",
     "text": [
      "0) xilinx_u280_xdma_201920_3\n",
      "1) xilinx_u280_xdma_201920_3\n"
     ]
    }
   ],
   "source": [
    "for i in range(len(pynq.Device.devices)):\n",
    "    print(\"{}) {}\".format(i, pynq.Device.devices[i].name))"
   ]
  },
  {
   "cell_type": "code",
   "execution_count": null,
   "metadata": {},
   "outputs": [],
   "source": [
    "currentDevice = pynq.Device.devices[0]\n",
    "xclbin = '/home/pouya/github/G-FPin_HW_new/G-FPin_HW/Vitis/hw.xclbin'\n",
    "ol = pynq.Overlay(xclbin,device=currentDevice)"
   ]
  },
  {
   "cell_type": "code",
   "execution_count": null,
   "metadata": {},
   "outputs": [],
   "source": [
    "ol.ip_dict"
   ]
  },
  {
   "cell_type": "code",
   "execution_count": null,
   "metadata": {},
   "outputs": [],
   "source": [
    "mm2s = ol.krnl_mm2s_0\n",
    "s2mm = ol.krnl_s2mm_0\n",
    "CGRA_krnl = ol.rtl_kernel_CGRA_accelerator_0\n",
    "\n",
    "size = 1408 * 100\n",
    "shape = (size,1)\n",
    "num_col = 2\n",
    "num_entry_config_table = 64\n",
    "size_inst_buf = num_entry_config_table * num_col\n",
    "shape_inst_buf = (size_inst_buf, 1)\n",
    "size_HBM = 512 # ignore this b/c it is host-independent (controlled by the FPGA)\n",
    "shape_HBM = (size_HBM, 1)\n",
    "\n",
    "if hasattr(ol, 'HBM0'):\n",
    "    mm2s_buf = pynq.allocate(shape, dtype=np.uint8, target=ol.HBM0)\n",
    "    s2mm_buf = pynq.allocate(shape, dtype=np.uint8, target=ol.HBM0)\n",
    "    CGRA_inst_buf = pynq.allocate(shape_inst_buf, dtype=np.uint32, target=ol.HBM0)\n",
    "    CGRA_HBM_buf1 = pynq.allocate(shape_HBM, dtype=np.uint8, target=ol.HBM0)\n",
    "    CGRA_HBM_buf2 = pynq.allocate(shape_HBM, dtype=np.uint8, target=ol.HBM0)\n",
    "    \n",
    "else:\n",
    "    mm2s_buf = pynq.allocate(shape, dtype=np.uint8, target=ol.bank1)\n",
    "    s2mm_buf = pynq.allocate(shape, dtype=np.uint8, target=ol.bank1)\n",
    "    CGRA_inst_buf = pynq.allocate(shape_inst_buf, dtype=np.uint32, target=ol.bank1)\n",
    "    CGRA_HBM_buf1 = pynq.allocate(shape_HBM, dtype=np.uint8, target=ol.bank1)\n",
    "    CGRA_HBM_buf2 = pynq.allocate(shape_HBM, dtype=np.uint8, target=ol.bank1)\n",
    "\n",
    "mm2s_buf[:] = np.random.randint(low=0, high=((2**8)-1), size=shape, dtype=np.uint8)\n",
    "CGRA_inst_buf[:] = np.random.randint(low=0, high=((2**8)-1), size=shape_inst_buf, dtype=np.uint8)\n",
    "CGRA_HBM_buf1[:] = np.random.randint(low=0, high=((2**8)-1), size=shape_HBM, dtype=np.uint8)\n",
    "CGRA_HBM_buf2[:] = np.random.randint(low=0, high=((2**8)-1), size=shape_HBM, dtype=np.uint8)"
   ]
  },
  {
   "cell_type": "code",
   "execution_count": null,
   "metadata": {},
   "outputs": [],
   "source": [
    "mm2s_buf.sync_to_device()\n",
    "CGRA_inst_buf.sync_to_device()\n",
    "CGRA_HBM_buf1.sync_to_device() # we might even no need that\n",
    "CGRA_HBM_buf2.sync_to_device() # we might even no need that"
   ]
  },
  {
   "cell_type": "code",
   "execution_count": null,
   "metadata": {},
   "outputs": [],
   "source": [
    "mm2s.start(mm2s_buf,size, 1) # Async\n",
    "CGRA_krnl.start(CGRA_inst_buf, CGRA_HBM_buf1, CGRA_HBM_buf2) # Async\n",
    "s2mm.call(s2mm_buf,size) # Sync"
   ]
  },
  {
   "cell_type": "code",
   "execution_count": null,
   "metadata": {},
   "outputs": [],
   "source": [
    "s2mm_buf.sync_from_device()"
   ]
  },
  {
   "cell_type": "code",
   "execution_count": null,
   "metadata": {},
   "outputs": [],
   "source": [
    "msg = \"SUCCESS!\" if np.array_equal(mm2s_buf, s2mm_buf) else \"FAILURE!\"\n",
    "print(msg)"
   ]
  },
  {
   "cell_type": "code",
   "execution_count": null,
   "metadata": {},
   "outputs": [],
   "source": [
    "del mm2s_buf\n",
    "del s2mm_buf\n",
    "del CGRA_inst_buf\n",
    "del CGRA_HBM_buf1\n",
    "del CGRA_HBM_buf2\n",
    "pynq.Overlay.free(ol)"
   ]
  }
 ],
 "metadata": {
  "kernelspec": {
   "display_name": "Python 3",
   "language": "python",
   "name": "python3"
  },
  "language_info": {
   "codemirror_mode": {
    "name": "ipython",
    "version": 3
   },
   "file_extension": ".py",
   "mimetype": "text/x-python",
   "name": "python",
   "nbconvert_exporter": "python",
   "pygments_lexer": "ipython3",
   "version": "3.8.5"
  }
 },
 "nbformat": 4,
 "nbformat_minor": 4
}
