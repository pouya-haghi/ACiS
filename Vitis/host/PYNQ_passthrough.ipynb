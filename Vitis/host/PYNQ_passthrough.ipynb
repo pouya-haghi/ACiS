{
 "cells": [
  {
   "cell_type": "code",
   "execution_count": null,
   "id": "1dd2becf",
   "metadata": {},
   "outputs": [],
   "source": [
    "import pynq\n",
    "import numpy as np\n",
    "from vnx_utils import *"
   ]
  },
  {
   "cell_type": "code",
   "execution_count": null,
   "id": "807cbf2f",
   "metadata": {},
   "outputs": [],
   "source": [
    "for i in range(len(pynq.Device.devices)):\n",
    "    print(\"{}) {}\".format(i, pynq.Device.devices[i].name))"
   ]
  },
  {
   "cell_type": "code",
   "execution_count": null,
   "id": "69f09147",
   "metadata": {},
   "outputs": [],
   "source": [
    "currentDevice = pynq.Device.devices[0]\n",
    "xclbin = '<path to xclbin>.xclbin'\n",
    "ol = pynq.Overlay(xclbin,device=currentDevice)"
   ]
  },
  {
   "cell_type": "code",
   "execution_count": null,
   "id": "4fe301f0",
   "metadata": {},
   "outputs": [],
   "source": [
    "ol.ip_dict"
   ]
  },
  {
   "cell_type": "code",
   "execution_count": null,
   "id": "8ce98608",
   "metadata": {},
   "outputs": [],
   "source": [
    "mm2s = ol.krnl_mm2s_0\n",
    "s2mm = ol.krnl_s2mm_0\n",
    "CGRA_krnl = ol.rtl_kernel_CGRA_accelerator_0\n",
    "\n",
    "size = 1408 * 100\n",
    "shape = (size,1)\n",
    "num_col = 2\n",
    "num_entry_config_table = 64\n",
    "size_inst_buf = num_entry_config_table * num_col\n",
    "shape_inst_buf = (size_inst_buf, 1)\n",
    "size_HBM = 512 # ignore this b/c it is host-independent (controlled by the FPGA)\n",
    "shape_HBM = (size_HBM, 1)\n",
    "\n",
    "if hasattr(ol, 'HBM0'):\n",
    "    mm2s_buf = pynq.allocate(shape, dtype=np.uint8, target=ol.HBM0)\n",
    "    s2mm_buf = pynq.allocate(shape, dtype=np.uint8, target=ol.HBM0)\n",
    "    CGRA_inst_buf = pynq.allocate(shape_inst_buf, dtype=np.uint32, target=ol.HBM0)\n",
    "    CGRA_HBM_buf1 = pynq.allocate(shape_HBM, dtype=np.uint8, target=ol.HBM0)\n",
    "    CGRA_HBM_buf2 = pynq.allocate(shape_HBM, dtype=np.uint8, target=ol.HBM0)\n",
    "    \n",
    "else:\n",
    "    mm2s_buf = pynq.allocate(shape, dtype=np.uint8, target=ol.bank1)\n",
    "    s2mm_buf = pynq.allocate(shape, dtype=np.uint8, target=ol.bank1)\n",
    "    CGRA_inst_buf = pynq.allocate(shape_inst_buf, dtype=np.uint32, target=ol.bank1)\n",
    "    CGRA_HBM_buf1 = pynq.allocate(shape_HBM, dtype=np.uint8, target=ol.bank1)\n",
    "    CGRA_HBM_buf2 = pynq.allocate(shape_HBM, dtype=np.uint8, target=ol.bank1)\n",
    "\n",
    "mm2s_buf[:] = np.random.randint(low=0, high=((2**8)-1), size=shape, dtype=np.uint8)\n",
    "CGRA_inst_buf[:] = np.random.randint(low=0, high=((2**8)-1), size=shape_inst_buf, dtype=np.uint8)\n",
    "CGRA_HBM_buf1[:] = np.random.randint(low=0, high=((2**8)-1), size=shape_HBM, dtype=np.uint8)\n",
    "CGRA_HBM_buf2[:] = np.random.randint(low=0, high=((2**8)-1), size=shape_HBM, dtype=np.uint8)"
   ]
  },
  {
   "cell_type": "code",
   "execution_count": null,
   "id": "e149affb",
   "metadata": {},
   "outputs": [],
   "source": [
    "mm2s_buf.sync_to_device()\n",
    "CGRA_inst_buf.sync_to_device()\n",
    "CGRA_HBM_buf1.sync_to_device() # we might even no need that\n",
    "CGRA_HBM_buf2.sync_to_device() # we might even no need that"
   ]
  },
  {
   "cell_type": "code",
   "execution_count": null,
   "id": "adf93f42",
   "metadata": {},
   "outputs": [],
   "source": [
    "mm2s.start(mm2s_buf,size, 1) # Async\n",
    "CGRA_krnl.start(CGRA_inst_buf, CGRA_HBM_buf1, CGRA_HBM_buf2) # Async\n",
    "s2mm.call(s2mm_buf,size) # Sync"
   ]
  },
  {
   "cell_type": "code",
   "execution_count": null,
   "id": "57a3cbb4",
   "metadata": {},
   "outputs": [],
   "source": [
    "s2mm_buf.sync_from_device()"
   ]
  },
  {
   "cell_type": "code",
   "execution_count": null,
   "id": "51ff4388",
   "metadata": {},
   "outputs": [],
   "source": [
    "msg = \"SUCCESS!\" if np.array_equal(mm2s_buf, s2mm_buf) else \"FAILURE!\"\n",
    "print(msg)"
   ]
  },
  {
   "cell_type": "code",
   "execution_count": null,
   "id": "793e63db",
   "metadata": {},
   "outputs": [],
   "source": [
    "del mm2s_buf\n",
    "del s2mm_buf\n",
    "del CGRA_inst_buf\n",
    "del CGRA_HBM_buf1\n",
    "del CGRA_HBM_buf2\n",
    "pynq.Overlay.free(ol)"
   ]
  }
 ],
 "metadata": {
  "kernelspec": {
   "display_name": "Python 3 (ipykernel)",
   "language": "python",
   "name": "python3"
  },
  "language_info": {
   "codemirror_mode": {
    "name": "ipython",
    "version": 3
   },
   "file_extension": ".py",
   "mimetype": "text/x-python",
   "name": "python",
   "nbconvert_exporter": "python",
   "pygments_lexer": "ipython3",
   "version": "3.9.7"
  }
 },
 "nbformat": 4,
 "nbformat_minor": 5
}
